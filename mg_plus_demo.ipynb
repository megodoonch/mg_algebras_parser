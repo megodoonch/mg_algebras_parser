{
 "cells": [
  {
   "cell_type": "markdown",
   "source": [
    "# Minimalist Algebras Demo: MG+2.3\n",
    "\n",
    "This Notebook will take you through some of the features of the Python code I wrote to implement my notion of Generalised Minimalist Algebras.\n",
    "\n",
    "Requirements for this demo: `nltk` should probably do it.\n",
    "\n",
    "These implement only the structure-building component of an MG. From the two-step perspective, these are just for the second step. (To incorporate features, there need to be rules mapping an operation in a given feature state to the algebra operation. These are implemented for John Torr's MGBank grammar, but I won't talk about those today. You can find them in `minimalist_parser.convert_mgbank`.)\n",
    "\n",
    "This code is very object-oriented with a lot of inheritance and default behaviour.\n",
    "\n",
    "We will start with the `Algebra` class."
   ],
   "metadata": {
    "collapsed": false
   },
   "id": "cbd8f3603857dc21"
  },
  {
   "cell_type": "code",
   "outputs": [],
   "source": [
    "# bunch o'imports\n",
    "from minimalist_parser.algebras.string_algebra import BareTreeStringAlgebra\n",
    "from minimalist_parser.algebras.algebra import AlgebraOp, AlgebraTerm\n",
    "from minimalist_parser.minimalism.minimalist_algebra_synchronous import MinimalistAlgebraSynchronous, MinimalistFunctionSynchronous, SynchronousTerm, InnerAlgebraInstructions\n",
    "from minimalist_parser.algebras.hm_algebra import HMAlgebra\n",
    "from minimalist_parser.minimalism.prepare_packages.prepare_packages_bare_trees import PreparePackagesBareTrees\n",
    "from minimalist_parser.minimalism.prepare_packages.prepare_packages_hm import PreparePackagesHM"
   ],
   "metadata": {
    "collapsed": true
   },
   "id": "initial_id",
   "execution_count": null
  },
  {
   "cell_type": "markdown",
   "source": [
    "We start by initialising an algebra over strings with operation names < and >. The terms over this algebra are thus Bare Trees a la Stabler 1997.\n",
    "\n",
    "`BareTreeStringAlgebra` is a subclass of `HMAlgebra`, which I designed for head movement."
   ],
   "metadata": {
    "collapsed": false
   },
   "id": "491d4f4685816dfb"
  },
  {
   "cell_type": "code",
   "outputs": [],
   "source": [
    "string_algebra = BareTreeStringAlgebra()\n",
    "\n",
    "help(string_algebra)"
   ],
   "metadata": {
    "collapsed": false
   },
   "id": "9b5239cfd6e5b60e",
   "execution_count": null
  },
  {
   "cell_type": "markdown",
   "source": [
    "Algebra constants are zeroary operations. They have a name and a zeroary function, which is an element of the domain: here, a string.\n",
    "\n",
    "(With an algebra this simple, it's hard to see why the name and function should be separate, but for, say, a tree algebra or graph algebra, it's more clear.)"
   ],
   "metadata": {
    "collapsed": false
   },
   "id": "34e452ad3c82b2d1"
  },
  {
   "cell_type": "code",
   "outputs": [],
   "source": [
    "the = AlgebraOp(name=\"the\", function=\"the\")\n",
    "\n",
    "# The algebra also has a default constant maker\n",
    "puppy = string_algebra.constant_maker(\"puppy\")\n",
    "snuggled = string_algebra.constant_maker(\"snuggled\")\n",
    "\n",
    "# look at the vocabulary\n",
    "vocab = [the, puppy, snuggled]\n",
    "for algebra_op in vocab:\n",
    "    print(\"\\nname:\", algebra_op.name)\n",
    "    print(\"function:\", algebra_op.function)\n"
   ],
   "metadata": {
    "collapsed": false
   },
   "id": "33dd279391c8c1bc",
   "execution_count": null
  },
  {
   "cell_type": "markdown",
   "source": [
    "Binary operations < and > can be looked up in `string_algebra.ops` or they can be created. \n",
    "\n",
    "For consistency across Head Movement Algebras, < is in `string_algebra.ops['concat_right']` and > is in `string_algebra.ops['concat_left']`. Notice both use the string_algebra.concat_right method, since Bare Trees are WYSIWYG when it comes to word order."
   ],
   "metadata": {
    "collapsed": false
   },
   "id": "2cf07218a35cfa15"
  },
  {
   "cell_type": "code",
   "outputs": [],
   "source": [
    "print(\"name:\", string_algebra.ops['concat_right'].name)\n",
    "print(\"function:\", string_algebra.ops['concat_right'].function)\n",
    "print(\"\\nname:\", string_algebra.ops['concat_left'].name)\n",
    "print(\"function:\", string_algebra.ops['concat_left'].function)"
   ],
   "metadata": {
    "collapsed": false
   },
   "id": "2a3d469d51e9e352",
   "execution_count": null
  },
  {
   "cell_type": "markdown",
   "source": [
    "You can always just create an `AlgebraOp` as well, if you want."
   ],
   "metadata": {
    "collapsed": false
   },
   "id": "cdc664a38cf62d04"
  },
  {
   "cell_type": "code",
   "outputs": [],
   "source": [
    "new_right = AlgebraOp(\"<\", string_algebra.concat_right)\n",
    "print(new_right == string_algebra.ops['concat_right'])"
   ],
   "metadata": {
    "collapsed": false
   },
   "id": "38acf4ed57ce9259",
   "execution_count": null
  },
  {
   "cell_type": "markdown",
   "source": [
    "### Algebra Terms\n",
    "\n",
    "An term over an algebra is a tree in which the nodes are labelled with operations of that algebra, and the number of children of the node matches the arity of the function of the operation.\n",
    "\n",
    "This means the leaves are constants, and the internal nodes are operations. \n",
    "\n",
    "An `AlgebraTerm` has a `parent`, which is an `AlgebraOp`, and, optionally, a list of `children`, which are `AlgebraTerm`s."
   ],
   "metadata": {
    "collapsed": false
   },
   "id": "f8f67ec1587113f4"
  },
  {
   "cell_type": "code",
   "outputs": [],
   "source": [
    "# for readability, let's give < and > names\n",
    "# Type: AlgebraOp\n",
    "head_left = string_algebra.ops['concat_right']\n",
    "head_right = string_algebra.ops['concat_left']\n",
    "\n",
    "# we also really want our vocabulary to be AlgebraTerms. We can turn them all into AlgebraTerms, but instead let's make them with the convenience function make_leaf\n",
    "# Type: AlgebraTerm\n",
    "the = string_algebra.make_leaf(\"the\")\n",
    "puppy = string_algebra.make_leaf(\"puppy\")\n",
    "snuggled = string_algebra.make_leaf(\"snuggled\")\n",
    "\n",
    "the_puppy = AlgebraTerm(head_left, [the, puppy])\n",
    "\n",
    "print(the_puppy)"
   ],
   "metadata": {
    "collapsed": false
   },
   "id": "e42908db22eac923",
   "execution_count": null
  },
  {
   "cell_type": "markdown",
   "source": [
    "`AlgebraTerm`s can be exported to `nltk.Tree`s, which allows us to visualise them."
   ],
   "metadata": {
    "collapsed": false
   },
   "id": "2874447a11f8d086"
  },
  {
   "cell_type": "code",
   "outputs": [],
   "source": [
    "the_puppy.to_nltk_tree().draw()"
   ],
   "metadata": {
    "collapsed": false
   },
   "id": "6c9a11690643c84a",
   "execution_count": null
  },
  {
   "cell_type": "code",
   "outputs": [],
   "source": [
    "the_puppy_snuggled = AlgebraTerm(head_right, [the_puppy, snuggled])\n",
    "the_puppy_snuggled.to_nltk_tree().draw()"
   ],
   "metadata": {
    "collapsed": false
   },
   "id": "23f8afa951ac5a51",
   "execution_count": null
  },
  {
   "cell_type": "markdown",
   "source": [
    "## Minimalist Algebras\n",
    "\n",
    "A Minimalist Algebra is also an algebra, but it's quite different from a string-building algebra. A Minimalist Algebra essentially handles all the Move-related work. Structure-building is delegated to its \"inner algebra\", which can be, for instance, this `string_algebra`.\n",
    "\n",
    "The domain of a Minimalist Algebra is `Expression`s, which contain an `inner_term` (a term of the inner algebra), `Movers`, and have an `mg_type` with things like +/- lexical and +/- conjunction.\n",
    "\n",
    "`Movers` implements a partial function from slot names (such as `'-wh'` or `'Abar'`) to inner terms. \n",
    "\n",
    "Today we'll just look at the `MinimalistAlgebraSynchronous` subclass, so I can show you how to build a synchronous grammar over multiple inner algebras."
   ],
   "metadata": {
    "collapsed": false
   },
   "id": "3f69d187dc2a294b"
  },
  {
   "cell_type": "code",
   "outputs": [],
   "source": [
    "# a MinimalistAlgebraSynchronous requires a list of inner algebras.\n",
    "minimalist_algebra = MinimalistAlgebraSynchronous([string_algebra])\n",
    "\n",
    "help(minimalist_algebra)"
   ],
   "metadata": {
    "collapsed": false
   },
   "id": "364bd9baec54cf2a",
   "execution_count": null
  },
  {
   "cell_type": "markdown",
   "source": [
    "## Adding your own inner algebra\n",
    "\n",
    "To do this, implement an `Algebra`. The `HMAlgebra` class has a bunch of default functions, so if you want an algebra with head movement, you may find this convenient. The `concat_right` etc methods by default just return `arg[0] + arg[1]` (or vice versa), so if you have a class you want to build, you may be able to get away with just initialising an `HMAlgebra` with `domain_type` specified.\n",
    "\n",
    "In the original Chomsky 1995, he builds multisets of multisets. Python won't let you do that, so I implemented `FakeSet`, which inherits from `list`, but ignores order.\n",
    "\n",
    "With this, you don't need to write a new class of `HMAlgebra`, just initialise one with `domain_type=FakeSet`."
   ],
   "metadata": {
    "collapsed": false
   },
   "id": "90bfb3a3c6dae2f0"
  },
  {
   "cell_type": "code",
   "outputs": [],
   "source": [
    "from minimalist_parser.algebras.algebra_objects.fake_set import FakeSet\n",
    "\n",
    "set_algebra = HMAlgebra(\"set algebra\", FakeSet)"
   ],
   "metadata": {
    "collapsed": false
   },
   "id": "caf21e21c4ffb05f",
   "execution_count": null
  },
  {
   "cell_type": "markdown",
   "source": [
    "`HMAlgebra`s don't by default have a constant maker. We need to write our own, since a constant (lexical item) should already be a `FakeSet`, not just a string."
   ],
   "metadata": {
    "collapsed": false
   },
   "id": "d1382233e5fe803"
  },
  {
   "cell_type": "code",
   "outputs": [],
   "source": [
    "def make_fake_set_constant(word):\n",
    "    \"\"\"\n",
    "    make an AlgebraOp with the given word as the content of a unary FakeSet.\n",
    "    With this we can use the synchronous algebra make_leaf function for a shortcut to a term leaf.\n",
    "    \"\"\"\n",
    "    return AlgebraOp(word, FakeSet([word]))\n",
    "\n",
    "set_algebra.add_constant_maker(make_fake_set_constant)"
   ],
   "metadata": {
    "collapsed": false
   },
   "id": "b3167e7323fff9b3",
   "execution_count": null
  },
  {
   "cell_type": "code",
   "outputs": [],
   "source": [
    "# this is just the built-in concat_right method of HMAlgebras, which just uses + on the two arguments.\n",
    "print(set_algebra.concat_right([FakeSet([7,8,1]), FakeSet([3, 2])]).spellout())"
   ],
   "metadata": {
    "collapsed": false
   },
   "id": "b496fe354efc2a21",
   "execution_count": null
  },
  {
   "cell_type": "code",
   "outputs": [],
   "source": [
    "# a term\n",
    "# set_algebra.ops[\"concat_right\"] is an AlgebraOp with name 'concat_right' and function set_algebra.concat_right.\n",
    "t = AlgebraTerm(set_algebra.ops[\"concat_right\"], [set_algebra.make_leaf(\"MG+\"), AlgebraTerm(set_algebra.ops[\"concat_right\"], [set_algebra.make_leaf(\"hi\"), set_algebra.make_leaf(\"there\")])])\n",
    "t.to_nltk_tree().draw()\n",
    "t.evaluate()\n"
   ],
   "metadata": {
    "collapsed": false
   },
   "id": "c0d8fdec7e40ebd3",
   "execution_count": null
  },
  {
   "cell_type": "code",
   "outputs": [],
   "source": [
    "# ignore these for now, they're just to make our lives easier later.\n",
    "string_prepare = PreparePackagesBareTrees()\n",
    "set_prepare = PreparePackagesHM(\"set prepare\", set_algebra)\n"
   ],
   "metadata": {
    "collapsed": false
   },
   "id": "f8fcd8e9cc909a38",
   "execution_count": null
  },
  {
   "cell_type": "code",
   "outputs": [],
   "source": [
    "# ignore the prepare_packages part. They're not necessary, but they save us re-making examples later.\n",
    "minimalist_algebra = MinimalistAlgebraSynchronous([string_algebra, set_algebra], prepare_packages=[string_prepare, set_prepare])"
   ],
   "metadata": {
    "collapsed": false
   },
   "id": "27a2c3521502cf37",
   "execution_count": null
  },
  {
   "cell_type": "code",
   "outputs": [],
   "source": [
    "# The operations of an algebra don't have to be stored in algebra.ops.\n",
    "# by default, a minimalist algebra doesn't have any stored here. The operations are just built using MinimalistFunctionSynchronous.\n",
    "\n",
    "# However, since all the inner algebras are HMAlgebras, there's a method for just adding all possible minimalist operations, right and left, given the movers slots.\n",
    "minimalist_algebra.add_default_operations()"
   ],
   "metadata": {
    "collapsed": false
   },
   "id": "c86ac8e559d7ee6d",
   "execution_count": null
  },
  {
   "cell_type": "code",
   "outputs": [],
   "source": [
    "for op in minimalist_algebra.ops:\n",
    "    print(op)"
   ],
   "metadata": {
    "collapsed": false
   },
   "id": "97ab11966e73dc3b",
   "execution_count": null
  },
  {
   "cell_type": "code",
   "outputs": [],
   "source": [
    "# for readability, let's get some operations\n",
    "merge_right = minimalist_algebra.ops[\"Merge1_right\"]\n",
    "merge_left = minimalist_algebra.ops[\"Merge1_left\"]\n",
    "merge_A = minimalist_algebra.ops[\"Merge2_A\"]\n",
    "move_A = minimalist_algebra.ops[\"Move1_left_A\"]\n",
    "merge_Abar = minimalist_algebra.ops[\"Merge2_ABar\"]\n",
    "move_Abar = minimalist_algebra.ops[\"Move1_left_ABar\"]\n",
    "move_A_Abar = minimalist_algebra.ops[\"Move2_A_ABar\"]"
   ],
   "metadata": {
    "collapsed": false
   },
   "id": "a21a5db619995c92",
   "execution_count": null
  },
  {
   "cell_type": "code",
   "outputs": [],
   "source": [
    "# and some constants\n",
    "the = minimalist_algebra.make_leaf(\"the\")\n",
    "puppy = minimalist_algebra.make_leaf(\"puppy\")\n",
    "snuggled = minimalist_algebra.make_leaf(\"snuggled\")\n"
   ],
   "metadata": {
    "collapsed": false
   },
   "id": "c487c7dad32f37b5",
   "execution_count": null
  },
  {
   "cell_type": "markdown",
   "source": [
    "If you don't want to use the default constant maker, you can pass `make_leaf` a dict from inner algebra to `InnerAlgebraInstructions`.\n",
    "\n",
    "For example, if you need silent heads:"
   ],
   "metadata": {
    "collapsed": false
   },
   "id": "e40e6f9027a4962"
  },
  {
   "cell_type": "code",
   "outputs": [],
   "source": [
    "# we can usually just make a silent thing with the constructor of the inner domain.\n",
    "# for example, str() makes \"\" and FakeSet() makes {}\n",
    "# using this, inner_algebra.empty_leaf_operation should work for most Algebras\n",
    "silent_inners = {inner_algebra: InnerAlgebraInstructions(algebra_op=inner_algebra.empty_leaf_operation) for inner_algebra in minimalist_algebra.inner_algebras}\n",
    "past = minimalist_algebra.make_leaf(\"[past]\", silent_inners)\n",
    "\n",
    "# see the silent heads:\n",
    "print(set_algebra, past.parent, past.spellout(set_algebra))\n",
    "print(string_algebra, past.parent, past.spellout(string_algebra))\n"
   ],
   "metadata": {
    "collapsed": false
   },
   "id": "486d0702421524f",
   "execution_count": null
  },
  {
   "cell_type": "code",
   "outputs": [],
   "source": [
    "# A term\n",
    "t=SynchronousTerm(move_A, [SynchronousTerm(merge_right, [past, SynchronousTerm(merge_A, [snuggled, SynchronousTerm(merge_right, [the, puppy])])])])\n",
    "t.to_nltk_tree().draw()\n",
    "\n",
    "# See the inner terms\n",
    "t.interp(set_algebra).inner_term.to_nltk_tree().draw()\n",
    "t.interp(string_algebra).inner_term.to_nltk_tree().draw()\n",
    "\n"
   ],
   "metadata": {
    "collapsed": false
   },
   "id": "6aff6e3d9ec189c6",
   "execution_count": null
  },
  {
   "cell_type": "markdown",
   "source": [
    "`spellout` is a shortcut for `t.interp(algebra).inner_term.evaluate()`. If the `domain_type` also has a `spellout` method, it also applies that, so e.g. a tree could spellout to its string yield or a `(string, triple, \"\")` could spell out to `\"string triple\"`.\n"
   ],
   "metadata": {
    "collapsed": false
   },
   "id": "eff2e344db5b84a6"
  },
  {
   "cell_type": "code",
   "outputs": [],
   "source": [
    "print(t.spellout(set_algebra))\n",
    "print(t.spellout(string_algebra))"
   ],
   "metadata": {
    "collapsed": false
   },
   "id": "b51a1c18ff25fbec",
   "execution_count": null
  },
  {
   "cell_type": "code",
   "outputs": [],
   "source": [
    "# Move2\n",
    "who = minimalist_algebra.make_leaf(\"who\")\n",
    "q = minimalist_algebra.make_leaf(\"[Q]\", silent_inners)\n",
    "\n",
    "\n",
    "t2 = SynchronousTerm(move_Abar, [SynchronousTerm(merge_right, [q, SynchronousTerm(move_A_Abar, [SynchronousTerm(merge_right, [past, SynchronousTerm(merge_A, [snuggled, who])])])])])\n",
    "\n",
    "# Minimalist term\n",
    "t2.to_nltk_tree().draw()\n",
    "\n",
    "# inner terms\n",
    "t2.interp(set_algebra).inner_term.to_nltk_tree().draw()\n",
    "t2.interp(string_algebra).inner_term.to_nltk_tree().draw()\n",
    "\n",
    "# spellout\n",
    "print(t2.spellout(set_algebra))\n",
    "print(t2.spellout(string_algebra))\n",
    "\n"
   ],
   "metadata": {
    "collapsed": false
   },
   "id": "dc7b7de4843b7f78",
   "execution_count": null
  },
  {
   "cell_type": "markdown",
   "source": [
    "## Prepare Packages\n",
    "\n",
    "So far, we've had no Head Movement and moved items are not marked with traces. These kinds of things require* tree homomorphisms on the inner algebra terms.\n",
    "\n",
    "These are called `PreparePackages`, and are paired with the `Algebra`s. `PreparePackagesHM` have methods to extract and combine heads.\n",
    "\n",
    "`*` \"require\" is too strong a word. They can be built into the algebras if you want, but this misses generalisations, and they'll look different on the inner terms.\n"
   ],
   "metadata": {
    "collapsed": false
   },
   "id": "756c8fd244684da9"
  },
  {
   "cell_type": "code",
   "outputs": [],
   "source": [
    "# for the string algebra, these are special since we need to follow with <, > arrows to find the head.\n",
    "# by default, we just go down the left branches.\n",
    "string_prepare = PreparePackagesBareTrees()\n",
    "set_prepare = PreparePackagesHM(\"set prepare\", set_algebra)\n"
   ],
   "metadata": {
    "collapsed": false
   },
   "id": "dfedae119a4589bd",
   "execution_count": null
  },
  {
   "cell_type": "code",
   "outputs": [],
   "source": [
    "# e.g. the method extract_head returns a pair of the tree without its head and the head\n",
    "snuggled_puppy = SynchronousTerm(merge_left, [snuggled, puppy])\n",
    "\n",
    "# sets\n",
    "remainder, head = set_prepare.extract_head(snuggled_puppy.interp(set_algebra).inner_term)\n",
    "remainder.to_nltk_tree().draw()\n",
    "head.to_nltk_tree().draw()\n",
    "\n",
    "# removing the head in the string algebra leaves a trace t\n",
    "remainder, head = string_prepare.extract_head(snuggled_puppy.interp(string_algebra).inner_term)\n",
    "remainder.to_nltk_tree().draw()\n",
    "head.to_nltk_tree().draw()"
   ],
   "metadata": {
    "collapsed": false
   },
   "id": "7a8fb35c7387d937",
   "execution_count": null
  },
  {
   "cell_type": "markdown",
   "source": [
    "A prepare package is a pair of tree homomorphisms that change, finitely, the functor term and the other term. (\"other\" = mover, or selectee, or modified)\n",
    "\n",
    "In an HM algebra, these are just for head movement. As part of a minimalist operation, the output of the prepare package will then be combined with an operation of the inner algebra, such as `concat_right`."
   ],
   "metadata": {
    "collapsed": false
   },
   "id": "be0289939368421e"
  },
  {
   "cell_type": "markdown",
   "source": [
    "The standard Prepare Packages for head movement algebras are:\n",
    "\n",
    "* `suffix`: functor, other -> (functor with head = h_functor + other_functor , other without its head)\n",
    "* `prefix`: functor, other -> (functor with head = other_functor h_functor , other without its head)\n",
    "* `excorporation`: functor, other -> (other head , concat_right(functor head, other without its head)\n",
    "* `hm_atb`: ONLY if functor head == other head:\n",
    "  * functor, other -> (functor head, concat_right(functor without its head, other without its head)"
   ],
   "metadata": {
    "collapsed": false
   },
   "id": "3d324e175ae426e9"
  },
  {
   "cell_type": "markdown",
   "source": [
    "A `MiniimalistFunction` is a type of `AlgebraOp` with a very complex constructor, taking things like the inner algebra operation, the prepare package, if any, and the slot(s) for movement.\n",
    "\n",
    "For synchronous algebras, a `MinimalistFunctionSynchronous`, the inner-algebra-specific information is gathered in a dict from algebra to `InnerAlgebraInstructions`"
   ],
   "metadata": {
    "collapsed": false
   },
   "id": "a2fb6e9022ede258"
  },
  {
   "cell_type": "code",
   "outputs": [],
   "source": [
    "help(InnerAlgebraInstructions)"
   ],
   "metadata": {
    "collapsed": false
   },
   "id": "6eeaff1b73821b83",
   "execution_count": null
  },
  {
   "cell_type": "code",
   "outputs": [],
   "source": [
    "# since both of our algebras are HMAlgebras with PreparePackagesHM prepare packages, we can make in inner_ops dict very easily.\n",
    "# for example, we can create a new minimalist operation with head-raising to prefix position.\n",
    "prefix = {a: InnerAlgebraInstructions(op_name=\"concat_right\", prepare=\"prefix\") for a in minimalist_algebra.inner_algebras}\n",
    "\n",
    "merge_right_prefix = MinimalistFunctionSynchronous(minimalist_algebra, minimalist_algebra.merge1, inner_ops=prefix, name=\"Merge1_right_prefix\")\n",
    "\n",
    "# we can add it to the algebra if we want.\n",
    "minimalist_algebra.add_op(merge_right_prefix)"
   ],
   "metadata": {
    "collapsed": false
   },
   "id": "86b502953c329cd6",
   "execution_count": null
  },
  {
   "cell_type": "code",
   "outputs": [],
   "source": [
    "ed = minimalist_algebra.make_leaf(\"-ed\")\n",
    "walk = minimalist_algebra.make_leaf(\"walk\")\n",
    "\n",
    "walked = SynchronousTerm(merge_right_prefix, [ed, walk])\n",
    "walked.to_nltk_tree().draw()\n",
    "\n",
    "# shortcut for walked.interp(string_algebra).inner_term.to_nltk_tree().draw()\n",
    "walked.view_inner_term(string_algebra)\n",
    "walked.spellout(string_algebra)"
   ],
   "metadata": {
    "collapsed": false
   },
   "id": "44942d7557a60d4d",
   "execution_count": null
  },
  {
   "cell_type": "markdown",
   "source": [
    "## Usage: we can make parse items without actually having to parse a sentence"
   ],
   "metadata": {
    "collapsed": false
   },
   "id": "5463ee415ec9dbc1"
  },
  {
   "cell_type": "code",
   "outputs": [],
   "source": [
    "from minimalist_parser.examples import tree_atb, cat_tried_sleep, tree_atb_hm, mg, triple_alg, am_alg\n",
    "from minimalist_parser.convert_mgbank.term2actions import add_interval_algebra\n",
    "from minimalist_parser.minimalism.prepare_packages.addressed_triple_prepare_package import \\\n",
    "    HMAddressedTriplesPreparePackages\n",
    "from minimalist_parser.algebras.hm_triple_algebra import HMTripleAlgebra\n",
    "from minimalist_parser.minimalism.prepare_packages.interval_prepare_package import IntervalPairPrepare\n",
    "from minimalist_parser.algebras.hm_interval_pair_algebra import HMIntervalPairsAlgebra"
   ],
   "metadata": {
    "collapsed": false
   },
   "id": "3d12cffaf44926bf",
   "execution_count": null
  },
  {
   "cell_type": "code",
   "outputs": [],
   "source": [
    "terms = tree_atb, cat_tried_sleep, tree_atb_hm\n",
    "for term in terms:\n",
    "    print(term.spellout(triple_alg))\n",
    "    term.to_nltk_tree().draw()\n",
    "    term.view_inner_term(triple_alg)\n",
    "    "
   ],
   "metadata": {
    "collapsed": false
   },
   "id": "6d5538333f4df200",
   "execution_count": null
  },
  {
   "cell_type": "code",
   "outputs": [],
   "source": [
    "# make required algebras and add to MG\n",
    "\n",
    "# IntervalPairs implement pairs of intervals a la Milos's paper on parsing complexity with head movement\n",
    "# (but my version)\n",
    "# (head interval, rest of the phrase interval) + typing to tell you what operations can apply (must_hm and lexical)\n",
    "example_interval_algebra = HMIntervalPairsAlgebra()\n",
    "example_interval_prepare = IntervalPairPrepare()\n",
    "example_interval_algebra.add_constant_maker()\n",
    "\n",
    "# interpret into MG tree addresses, to track where words in the sentence came from (including deletion due to ATB movement)\n",
    "example_address_algebra = HMTripleAlgebra(\"addresses algebra\", component_type=list, addresses=True)\n",
    "example_address_prepare = HMAddressedTriplesPreparePackages()\n",
    "\n",
    "mg.inner_algebras[example_address_algebra] = example_address_prepare\n",
    "mg.inner_algebras[example_interval_algebra] = example_interval_prepare\n",
    "\n",
    "# use the addresses as output to add an interpretation over intervals in the string\n",
    "for term in [tree_atb, cat_tried_sleep, tree_atb_hm]:\n",
    "    add_interval_algebra(term, mg, triple_alg, example_address_algebra, example_address_prepare,\n",
    "                         example_interval_algebra, example_interval_prepare, False)\n"
   ],
   "metadata": {
    "collapsed": false
   },
   "id": "4deb485d386a55da",
   "execution_count": null
  },
  {
   "cell_type": "code",
   "outputs": [],
   "source": [
    "print(tree_atb.spellout(example_address_algebra))\n",
    "print(tree_atb.spellout(triple_alg))\n",
    "print(tree_atb.spellout(example_interval_algebra))\n",
    "tree_atb.to_nltk_tree().draw()"
   ],
   "metadata": {
    "collapsed": false
   },
   "id": "1f5e3e7efba00b30",
   "execution_count": null
  },
  {
   "cell_type": "code",
   "outputs": [],
   "source": [
    "# we can see the string indices in the interval algebra term\n",
    "tree_atb.view_inner_term(example_interval_algebra)"
   ],
   "metadata": {
    "collapsed": false
   },
   "id": "71efefe6c61a6ab9",
   "execution_count": null
  },
  {
   "cell_type": "code",
   "outputs": [],
   "source": [
    "for alg in mg.inner_algebras:\n",
    "    print()\n",
    "    print(alg)\n",
    "    print(tree_atb.spellout(alg))"
   ],
   "metadata": {
    "collapsed": false
   },
   "id": "6e0ed2e0c96c8584",
   "execution_count": null
  },
  {
   "cell_type": "markdown",
   "source": [
    "### Bonus: Graph algebra\n",
    "\n",
    "These examples have a graph algebra interpretation as well. I don't have any built-in visualiser, but you can export them to GraphViz."
   ],
   "metadata": {
    "collapsed": false
   },
   "id": "d7c9ea568b690d3a"
  },
  {
   "cell_type": "code",
   "outputs": [],
   "source": [
    "with open(\"data/processed/graphs/mg_plus.dot\", 'w') as f:\n",
    "    for term in terms:\n",
    "        g = term.spellout(am_alg)\n",
    "    \n",
    "        dot = g.to_graphviz()\n",
    "        f.write(dot)\n",
    "        f.write(\"\\n\\n\")"
   ],
   "metadata": {
    "collapsed": false
   },
   "id": "4ac9bebed26ae91b",
   "execution_count": null
  },
  {
   "cell_type": "code",
   "outputs": [],
   "source": [
    "for term in terms:\n",
    "    term.view_inner_term(am_alg)"
   ],
   "metadata": {
    "collapsed": false
   },
   "id": "6901545a3f259122",
   "execution_count": null
  },
  {
   "cell_type": "code",
   "outputs": [],
   "source": [],
   "metadata": {
    "collapsed": false
   },
   "id": "41eccda0f079c058",
   "execution_count": null
  }
 ],
 "metadata": {
  "kernelspec": {
   "display_name": "Python 3",
   "language": "python",
   "name": "python3"
  },
  "language_info": {
   "codemirror_mode": {
    "name": "ipython",
    "version": 2
   },
   "file_extension": ".py",
   "mimetype": "text/x-python",
   "name": "python",
   "nbconvert_exporter": "python",
   "pygments_lexer": "ipython2",
   "version": "2.7.6"
  }
 },
 "nbformat": 4,
 "nbformat_minor": 5
}
