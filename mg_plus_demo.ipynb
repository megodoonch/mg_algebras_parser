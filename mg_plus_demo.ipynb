{
 "cells": [
  {
   "cell_type": "code",
   "execution_count": 1,
   "id": "initial_id",
   "metadata": {
    "collapsed": true,
    "ExecuteTime": {
     "end_time": "2024-03-22T22:50:51.916800Z",
     "start_time": "2024-03-22T22:50:51.516141Z"
    }
   },
   "outputs": [],
   "source": [
    "from minimalist_parser.algebras.string_algebra import BareTreeStringAlgebra\n",
    "from minimalist_parser.algebras.algebra import AlgebraOp, AlgebraTerm\n",
    "from minimalist_parser.minimalism.minimalist_algebra_synchronous import MinimalistAlgebraSynchronous, MinimalistFunctionSynchronous, SynchronousTerm, InnerAlgebraInstructions\n"
   ]
  },
  {
   "cell_type": "markdown",
   "source": [
    "We start by initialising an algebra over strings with operation names < and >. The terms over this algebra are thus Bare Trees a la Stabler 1997."
   ],
   "metadata": {
    "collapsed": false
   },
   "id": "491d4f4685816dfb"
  },
  {
   "cell_type": "code",
   "outputs": [],
   "source": [
    "string_algebra = BareTreeStringAlgebra()"
   ],
   "metadata": {
    "collapsed": false,
    "ExecuteTime": {
     "end_time": "2024-03-22T22:50:52.459893Z",
     "start_time": "2024-03-22T22:50:52.457543Z"
    }
   },
   "id": "9b5239cfd6e5b60e",
   "execution_count": 2
  },
  {
   "cell_type": "markdown",
   "source": [
    "Algebra constants are zeroary operations. They have a name and a zeroary function, which is an element of the domain: here, a string."
   ],
   "metadata": {
    "collapsed": false
   },
   "id": "34e452ad3c82b2d1"
  },
  {
   "cell_type": "code",
   "outputs": [
    {
     "name": "stdout",
     "output_type": "stream",
     "text": [
      "\n",
      "name: the\n",
      "function: the\n",
      "\n",
      "name: puppy\n",
      "function: puppy\n",
      "\n",
      "name: snuggled\n",
      "function: snuggled\n"
     ]
    }
   ],
   "source": [
    "the = AlgebraOp(\"the\", \"the\")\n",
    "\n",
    "# The algebra also has a default constant maker\n",
    "puppy = string_algebra.constant_maker(\"puppy\")\n",
    "snuggled = string_algebra.constant_maker(\"snuggled\")\n",
    "\n",
    "# look at the vocabulary\n",
    "vocab = [the, puppy, snuggled]\n",
    "for algebra_op in vocab:\n",
    "    print(\"\\nname:\", algebra_op.name)\n",
    "    print(\"function:\", algebra_op.function)\n"
   ],
   "metadata": {
    "collapsed": false,
    "ExecuteTime": {
     "end_time": "2024-03-22T22:50:53.019788Z",
     "start_time": "2024-03-22T22:50:53.016524Z"
    }
   },
   "id": "33dd279391c8c1bc",
   "execution_count": 3
  },
  {
   "cell_type": "markdown",
   "source": [
    "Binary operations < and > can be looked up in `string_algebra.ops` or they can be created. \n",
    "\n",
    "For consistency across Head Movement Algebras, < is in `string_algebra.ops['concat_right']` and > is in `string_algebra.ops['concat_left']`. Notice both use the string_algebra.concat_right method, since Bare Trees are WYSIWYG when it comes to word order."
   ],
   "metadata": {
    "collapsed": false
   },
   "id": "2cf07218a35cfa15"
  },
  {
   "cell_type": "code",
   "outputs": [
    {
     "name": "stdout",
     "output_type": "stream",
     "text": [
      "<\n",
      "<bound method BareTreeStringAlgebra.concat_right of String Algebra>\n",
      ">\n",
      "<bound method BareTreeStringAlgebra.concat_right of String Algebra>\n"
     ]
    }
   ],
   "source": [
    "print(string_algebra.ops['concat_right'].name)\n",
    "print(string_algebra.ops['concat_right'].function)\n",
    "print(string_algebra.ops['concat_left'].name)\n",
    "print(string_algebra.ops['concat_left'].function)"
   ],
   "metadata": {
    "collapsed": false,
    "ExecuteTime": {
     "end_time": "2024-03-22T22:50:53.352053Z",
     "start_time": "2024-03-22T22:50:53.348835Z"
    }
   },
   "id": "2a3d469d51e9e352",
   "execution_count": 4
  },
  {
   "cell_type": "markdown",
   "source": [
    "You can always just create an AlgebraOp as well, if you want."
   ],
   "metadata": {
    "collapsed": false
   },
   "id": "cdc664a38cf62d04"
  },
  {
   "cell_type": "code",
   "outputs": [
    {
     "name": "stdout",
     "output_type": "stream",
     "text": [
      "True\n"
     ]
    }
   ],
   "source": [
    "new_right = AlgebraOp(\"<\", string_algebra.concat_right)\n",
    "print(new_right == string_algebra.ops['concat_right'])"
   ],
   "metadata": {
    "collapsed": false,
    "ExecuteTime": {
     "end_time": "2024-03-22T22:50:53.707913Z",
     "start_time": "2024-03-22T22:50:53.704524Z"
    }
   },
   "id": "38acf4ed57ce9259",
   "execution_count": 5
  },
  {
   "cell_type": "markdown",
   "source": [
    "### Algebra Terms\n",
    "\n",
    "An term over an algebra is a tree in which the nodes are labelled with operations of that algebra, and the number of children of the node matches the arity of the function of the operation.\n",
    "\n",
    "This means the leaves are constants, and the internal nodes are operations. \n",
    "\n",
    "An `AlgebraTerm` has a `parent`, which is an `AlgebraOp`, and, optionally, a list of `children`, which are `AlgebraTerm`s."
   ],
   "metadata": {
    "collapsed": false
   },
   "id": "f8f67ec1587113f4"
  },
  {
   "cell_type": "markdown",
   "source": [],
   "metadata": {
    "collapsed": false
   },
   "id": "1a43511e58a51112"
  },
  {
   "cell_type": "code",
   "outputs": [
    {
     "name": "stdout",
     "output_type": "stream",
     "text": [
      "('<', [('the'), ('puppy')])\n"
     ]
    }
   ],
   "source": [
    "# for ease of typing, let's give < and > names\n",
    "head_left = string_algebra.ops['concat_right']\n",
    "head_right = string_algebra.ops['concat_left']\n",
    "\n",
    "# we also really want our vocabulary to be AlgebraTerms. We can turn them all into AlgebraTerms, but instead let's make them with the convenience function make_leaf\n",
    "the = string_algebra.make_leaf(\"the\")\n",
    "puppy = string_algebra.make_leaf(\"puppy\")\n",
    "snuggled = string_algebra.make_leaf(\"snuggled\")\n",
    "\n",
    "the_puppy = AlgebraTerm(head_left, [the, puppy])\n",
    "\n",
    "print(the_puppy)"
   ],
   "metadata": {
    "collapsed": false,
    "ExecuteTime": {
     "end_time": "2024-03-22T22:51:02.507226Z",
     "start_time": "2024-03-22T22:51:02.500288Z"
    }
   },
   "id": "e42908db22eac923",
   "execution_count": 8
  },
  {
   "cell_type": "markdown",
   "source": [
    "These can be exported to nltk Trees, which allows us to visualise them."
   ],
   "metadata": {
    "collapsed": false
   },
   "id": "2874447a11f8d086"
  },
  {
   "cell_type": "code",
   "outputs": [],
   "source": [
    "the_puppy.to_nltk_tree().draw()"
   ],
   "metadata": {
    "collapsed": false,
    "ExecuteTime": {
     "end_time": "2024-03-22T22:51:06.234799Z",
     "start_time": "2024-03-22T22:51:03.956779Z"
    }
   },
   "id": "6c9a11690643c84a",
   "execution_count": 9
  },
  {
   "cell_type": "code",
   "outputs": [],
   "source": [
    "the_puppy_snuggled = AlgebraTerm(head_right, [the_puppy, snuggled])\n",
    "the_puppy_snuggled.to_nltk_tree().draw()"
   ],
   "metadata": {
    "collapsed": false,
    "ExecuteTime": {
     "end_time": "2024-03-22T22:51:15.149417Z",
     "start_time": "2024-03-22T22:51:12.943435Z"
    }
   },
   "id": "23f8afa951ac5a51",
   "execution_count": 10
  },
  {
   "cell_type": "markdown",
   "source": [
    "## Minimalist Algebras\n",
    "\n",
    "A Minimalist Algebra is also an algebra, but it's quite different from a string-building algebra. A Minimalist Algebra essentially handles all the Move-related work. Structure-building is delegated to its \"inner algebra\", which can be, for instance, this `string_algebra`.\n",
    "\n",
    "The domain of a Minimalist Algebra is `Expression`s, which contain an `inner_term` (a term of the inner algebra), `Movers`, and have an `mg_type` with things like +/- lexical and +/- conjunction.\n",
    "\n",
    "`Movers` implements a partial function from slot names (such as `'-wh'` or `'Abar'`) to inner terms. \n",
    "\n",
    "Today we'll just look at the `MinimalistAlgebraSynchronous` subclass, so I can show you how to build a synchronous grammar over multiple inner algebras."
   ],
   "metadata": {
    "collapsed": false
   },
   "id": "3f69d187dc2a294b"
  },
  {
   "cell_type": "code",
   "outputs": [],
   "source": [
    "# a MinimalistAlgebraSynchronous requires a list of inner algebras.\n",
    "minimalist_algebra = MinimalistAlgebraSynchronous([string_algebra])"
   ],
   "metadata": {
    "collapsed": false,
    "ExecuteTime": {
     "end_time": "2024-03-22T22:51:21.131223Z",
     "start_time": "2024-03-22T22:51:21.128699Z"
    }
   },
   "id": "364bd9baec54cf2a",
   "execution_count": 11
  },
  {
   "cell_type": "code",
   "outputs": [
    {
     "name": "stdout",
     "output_type": "stream",
     "text": [
      "{}\n"
     ]
    }
   ],
   "source": [
    "print(minimalist_algebra.ops)"
   ],
   "metadata": {
    "collapsed": false,
    "ExecuteTime": {
     "end_time": "2024-03-22T22:51:21.681128Z",
     "start_time": "2024-03-22T22:51:21.678453Z"
    }
   },
   "id": "310f5cce27c3235",
   "execution_count": 12
  },
  {
   "cell_type": "code",
   "outputs": [],
   "source": [
    "minimalist_algebra.add_default_operations()"
   ],
   "metadata": {
    "collapsed": false,
    "ExecuteTime": {
     "end_time": "2024-03-22T22:51:22.515704Z",
     "start_time": "2024-03-22T22:51:22.513010Z"
    }
   },
   "id": "df38599d7bedabae",
   "execution_count": 13
  },
  {
   "cell_type": "code",
   "outputs": [
    {
     "name": "stdout",
     "output_type": "stream",
     "text": [
      "{'merge1+concat_right': merge1+concat_right, 'merge1+concat_left': merge1+concat_left, 'merge2+A': merge2+A, 'move1+A+concat_right': move1+A+concat_right, 'move1+A+concat_left': move1+A+concat_left, 'move2+A+A': move2+A+A, 'move2+A+ABar': move2+A+ABar, 'move2+A+R': move2+A+R, 'move2+A+Self': move2+A+Self, 'merge2+ABar': merge2+ABar, 'move1+ABar+concat_right': move1+ABar+concat_right, 'move1+ABar+concat_left': move1+ABar+concat_left, 'move2+ABar+A': move2+ABar+A, 'move2+ABar+ABar': move2+ABar+ABar, 'move2+ABar+R': move2+ABar+R, 'move2+ABar+Self': move2+ABar+Self, 'merge2+R': merge2+R, 'move1+R+concat_right': move1+R+concat_right, 'move1+R+concat_left': move1+R+concat_left, 'move2+R+A': move2+R+A, 'move2+R+ABar': move2+R+ABar, 'move2+R+R': move2+R+R, 'move2+R+Self': move2+R+Self, 'merge2+Self': merge2+Self, 'move1+Self+concat_right': move1+Self+concat_right, 'move1+Self+concat_left': move1+Self+concat_left, 'move2+Self+A': move2+Self+A, 'move2+Self+ABar': move2+Self+ABar, 'move2+Self+R': move2+Self+R, 'move2+Self+Self': move2+Self+Self}\n"
     ]
    }
   ],
   "source": [
    "print(minimalist_algebra.ops)"
   ],
   "metadata": {
    "collapsed": false,
    "ExecuteTime": {
     "end_time": "2024-03-22T22:51:23.262952Z",
     "start_time": "2024-03-22T22:51:23.260242Z"
    }
   },
   "id": "acdc814c0d4f29b4",
   "execution_count": 14
  },
  {
   "cell_type": "code",
   "outputs": [],
   "source": [
    "from minimalist_parser.algebras.hm_algebra import HMAlgebra\n"
   ],
   "metadata": {
    "collapsed": false,
    "ExecuteTime": {
     "end_time": "2024-03-22T22:51:24.006339Z",
     "start_time": "2024-03-22T22:51:24.003417Z"
    }
   },
   "id": "d0006219a6c73f09",
   "execution_count": 15
  },
  {
   "cell_type": "code",
   "outputs": [],
   "source": [
    "from minimalist_parser.algebras.algebra_objects.fake_set import FakeSet\n",
    "\n",
    "\n",
    "def make_fake_set_constant(word, label):\n",
    "    \"\"\"\n",
    "    make an AlgebraOp with the given word as the content of a unary FakeSet.\n",
    "    With this we can use the synchronous algebra make_leaf function for a shortcut to a term leaf.\n",
    "    \"\"\"\n",
    "    return AlgebraOp(label, FakeSet([word]))\n",
    "\n",
    "set_algebra = HMAlgebra(\"set algebra\", FakeSet)\n",
    "set_algebra.add_constant_maker(make_fake_set_constant)"
   ],
   "metadata": {
    "collapsed": false,
    "ExecuteTime": {
     "end_time": "2024-03-22T23:56:56.471868Z",
     "start_time": "2024-03-22T23:56:56.466419Z"
    }
   },
   "id": "caf21e21c4ffb05f",
   "execution_count": 122
  },
  {
   "cell_type": "code",
   "outputs": [
    {
     "data": {
      "text/plain": "{{1, 7, 8}, {2, 3}}"
     },
     "execution_count": 123,
     "metadata": {},
     "output_type": "execute_result"
    }
   ],
   "source": [
    "set_algebra.concat_right([FakeSet([7,8,1]), FakeSet([3, 2])]).spellout()"
   ],
   "metadata": {
    "collapsed": false,
    "ExecuteTime": {
     "end_time": "2024-03-22T23:56:57.510085Z",
     "start_time": "2024-03-22T23:56:57.505902Z"
    }
   },
   "id": "b496fe354efc2a21",
   "execution_count": 123
  },
  {
   "cell_type": "code",
   "outputs": [],
   "source": [
    "minimalist_algebra = MinimalistAlgebraSynchronous([string_algebra, set_algebra])"
   ],
   "metadata": {
    "collapsed": false,
    "ExecuteTime": {
     "end_time": "2024-03-22T23:56:58.882350Z",
     "start_time": "2024-03-22T23:56:58.878280Z"
    }
   },
   "id": "27a2c3521502cf37",
   "execution_count": 124
  },
  {
   "cell_type": "code",
   "outputs": [],
   "source": [
    "minimalist_algebra.add_default_operations()"
   ],
   "metadata": {
    "collapsed": false,
    "ExecuteTime": {
     "end_time": "2024-03-22T23:56:59.714918Z",
     "start_time": "2024-03-22T23:56:59.712459Z"
    }
   },
   "id": "c86ac8e559d7ee6d",
   "execution_count": 125
  },
  {
   "cell_type": "code",
   "outputs": [
    {
     "name": "stdout",
     "output_type": "stream",
     "text": [
      "{'merge1+concat_right+concat_right': merge1+concat_right+concat_right, 'merge1+concat_left+concat_left': merge1+concat_left+concat_left, 'merge2+A': merge2+A, 'move1+A+concat_right+concat_right': move1+A+concat_right+concat_right, 'move1+A+concat_left+concat_left': move1+A+concat_left+concat_left, 'move2+A+A': move2+A+A, 'move2+A+ABar': move2+A+ABar, 'move2+A+R': move2+A+R, 'move2+A+Self': move2+A+Self, 'merge2+ABar': merge2+ABar, 'move1+ABar+concat_right+concat_right': move1+ABar+concat_right+concat_right, 'move1+ABar+concat_left+concat_left': move1+ABar+concat_left+concat_left, 'move2+ABar+A': move2+ABar+A, 'move2+ABar+ABar': move2+ABar+ABar, 'move2+ABar+R': move2+ABar+R, 'move2+ABar+Self': move2+ABar+Self, 'merge2+R': merge2+R, 'move1+R+concat_right+concat_right': move1+R+concat_right+concat_right, 'move1+R+concat_left+concat_left': move1+R+concat_left+concat_left, 'move2+R+A': move2+R+A, 'move2+R+ABar': move2+R+ABar, 'move2+R+R': move2+R+R, 'move2+R+Self': move2+R+Self, 'merge2+Self': merge2+Self, 'move1+Self+concat_right+concat_right': move1+Self+concat_right+concat_right, 'move1+Self+concat_left+concat_left': move1+Self+concat_left+concat_left, 'move2+Self+A': move2+Self+A, 'move2+Self+ABar': move2+Self+ABar, 'move2+Self+R': move2+Self+R, 'move2+Self+Self': move2+Self+Self}\n"
     ]
    }
   ],
   "source": [
    "print(minimalist_algebra.ops)"
   ],
   "metadata": {
    "collapsed": false,
    "ExecuteTime": {
     "end_time": "2024-03-22T23:57:00.622540Z",
     "start_time": "2024-03-22T23:57:00.619443Z"
    }
   },
   "id": "97ab11966e73dc3b",
   "execution_count": 126
  },
  {
   "cell_type": "code",
   "outputs": [],
   "source": [
    "merge_right = minimalist_algebra.ops[\"merge1+concat_right+concat_right\"]"
   ],
   "metadata": {
    "collapsed": false,
    "ExecuteTime": {
     "end_time": "2024-03-22T23:57:01.231634Z",
     "start_time": "2024-03-22T23:57:01.228599Z"
    }
   },
   "id": "a21a5db619995c92",
   "execution_count": 127
  },
  {
   "cell_type": "code",
   "outputs": [
    {
     "name": "stdout",
     "output_type": "stream",
     "text": [
      "{}\n"
     ]
    }
   ],
   "source": [
    "the = minimalist_algebra.make_leaf(\"the\")\n",
    "puppy = minimalist_algebra.make_leaf(\"puppy\")\n",
    "\n",
    "silent_inners = {inner_algebra: InnerAlgebraInstructions(op_name=\"[past]\", leaf_object=inner_algebra.domain_type()) for inner_algebra in minimalist_algebra.inner_algebras}\n",
    "\n",
    "past = minimalist_algebra.make_leaf(\"[past]\", silent_inners)\n",
    "\n",
    "print(past.interp(set_algebra).inner_term.evaluate())\n",
    "\n",
    "t=SynchronousTerm(merge_right, [past, SynchronousTerm(merge_right, [the, puppy])])"
   ],
   "metadata": {
    "collapsed": false,
    "ExecuteTime": {
     "end_time": "2024-03-22T23:57:01.725976Z",
     "start_time": "2024-03-22T23:57:01.719314Z"
    }
   },
   "id": "c487c7dad32f37b5",
   "execution_count": 128
  },
  {
   "cell_type": "code",
   "outputs": [
    {
     "name": "stdout",
     "output_type": "stream",
     "text": [
      "{{}, {{puppy}, {the}}}\n"
     ]
    },
    {
     "data": {
      "text/plain": "'the puppy'"
     },
     "execution_count": 130,
     "metadata": {},
     "output_type": "execute_result"
    }
   ],
   "source": [
    "print(t.spellout(set_algebra))\n",
    "t.spellout(string_algebra)"
   ],
   "metadata": {
    "collapsed": false,
    "ExecuteTime": {
     "end_time": "2024-03-22T23:57:29.638114Z",
     "start_time": "2024-03-22T23:57:29.634192Z"
    }
   },
   "id": "b51a1c18ff25fbec",
   "execution_count": 130
  },
  {
   "cell_type": "code",
   "outputs": [
    {
     "data": {
      "text/plain": "{}"
     },
     "execution_count": 29,
     "metadata": {},
     "output_type": "execute_result"
    }
   ],
   "source": [
    "FakeSet()"
   ],
   "metadata": {
    "collapsed": false,
    "ExecuteTime": {
     "end_time": "2024-03-22T22:53:40.488673Z",
     "start_time": "2024-03-22T22:53:40.485121Z"
    }
   },
   "id": "dc7b7de4843b7f78",
   "execution_count": 29
  },
  {
   "cell_type": "code",
   "outputs": [],
   "source": [],
   "metadata": {
    "collapsed": false
   },
   "id": "8d2b00f5feba186a"
  }
 ],
 "metadata": {
  "kernelspec": {
   "display_name": "Python 3",
   "language": "python",
   "name": "python3"
  },
  "language_info": {
   "codemirror_mode": {
    "name": "ipython",
    "version": 2
   },
   "file_extension": ".py",
   "mimetype": "text/x-python",
   "name": "python",
   "nbconvert_exporter": "python",
   "pygments_lexer": "ipython2",
   "version": "2.7.6"
  }
 },
 "nbformat": 4,
 "nbformat_minor": 5
}
