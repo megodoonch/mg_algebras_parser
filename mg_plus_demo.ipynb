{
 "cells": [
  {
   "cell_type": "markdown",
   "source": [
    "# Minimalist Algebras Demo: MG+2.3\n",
    "\n",
    "This Notebook will take you through some of the features of the Python code I wrote to implement my notion of Generalised Minimalist Algebras.\n",
    "\n",
    "These implement only the structure-building component of an MG. From the two-step perspective, these are just for the second step. (To incorporate features, there need to be rules mapping an operation in a given feature state to the algebra operation. These are implemented for John Torr's MGBank grammar, but I won't talk about those today. You can find them in `minimalist_parser.convert_mgbank`.)\n",
    "\n",
    "This code is very object-oriented with a lot of inheritance and default behaviour.\n",
    "\n",
    "We will start with the `Algebra` class."
   ],
   "metadata": {
    "collapsed": false
   },
   "id": "cbd8f3603857dc21"
  },
  {
   "cell_type": "code",
   "outputs": [],
   "source": [
    "from minimalist_parser.algebras.string_algebra import BareTreeStringAlgebra\n",
    "from minimalist_parser.algebras.algebra import AlgebraOp, AlgebraTerm\n",
    "from minimalist_parser.minimalism.minimalist_algebra_synchronous import MinimalistAlgebraSynchronous, MinimalistFunctionSynchronous, SynchronousTerm, InnerAlgebraInstructions\n",
    "from minimalist_parser.algebras.hm_algebra import HMAlgebra\n",
    "from minimalist_parser.minimalism.prepare_packages.prepare_packages_bare_trees import PreparePackagesBareTrees\n",
    "from minimalist_parser.minimalism.prepare_packages.prepare_packages_hm import PreparePackagesHM\n",
    "\n",
    "\n"
   ],
   "metadata": {
    "collapsed": true,
    "ExecuteTime": {
     "end_time": "2024-03-23T12:04:40.602704Z",
     "start_time": "2024-03-23T12:04:40.217423Z"
    }
   },
   "id": "initial_id",
   "execution_count": 1
  },
  {
   "cell_type": "markdown",
   "source": [
    "We start by initialising an algebra over strings with operation names < and >. The terms over this algebra are thus Bare Trees a la Stabler 1997.\n",
    "\n",
    "`BareTreeStringAlgebra` is a subclass of `HMAlgebra`, which I designed for head movement."
   ],
   "metadata": {
    "collapsed": false
   },
   "id": "491d4f4685816dfb"
  },
  {
   "cell_type": "code",
   "outputs": [
    {
     "name": "stdout",
     "output_type": "stream",
     "text": [
      "Help on BareTreeStringAlgebra in module minimalist_parser.algebras.string_algebra object:\n",
      "\n",
      "class BareTreeStringAlgebra(minimalist_parser.algebras.hm_algebra.HMAlgebra)\n",
      " |  BareTreeStringAlgebra(name=None, zero=None, ops=None, syntax_op_names=None, meta=None)\n",
      " |  \n",
      " |  A string algebra in which the concatenate operation names are > and <, and for head movement, <_h and >_h.\n",
      " |  This makes for a simple string algebra in which the algebra terms are Bare Trees a la Stabler 1997.\n",
      " |  \n",
      " |  Note that this is different from a tree-building algebra, in which the objects built are actually trees.\n",
      " |  \n",
      " |  Method resolution order:\n",
      " |      BareTreeStringAlgebra\n",
      " |      minimalist_parser.algebras.hm_algebra.HMAlgebra\n",
      " |      minimalist_parser.algebras.algebra.Algebra\n",
      " |      abc.ABC\n",
      " |      builtins.object\n",
      " |  \n",
      " |  Methods defined here:\n",
      " |  \n",
      " |  __init__(self, name=None, zero=None, ops=None, syntax_op_names=None, meta=None)\n",
      " |      Initialise a string-building algebra with Bare Tree algebra terms.\n",
      " |      @param name: str: Algebra name, default \"String Algebra\".\n",
      " |      @param zero: The empty AlgebraOp, default <e> with interpretation \"\".\n",
      " |      @param ops: dict of operation name to AlgebraOp. Default < and > both interpreted as self.concat_right,\n",
      " |                                                          and <_h and >_h, both interpreted as self.suffix.\n",
      " |      @param syntax_op_names: set[str]: Which operation names count a syntax, as opposed fto morphology. Default <,>.\n",
      " |                                          Used to find the head of the term.\n",
      " |      @param meta: dict, any extra info you want to add.\n",
      " |  \n",
      " |  concat_right(self, args: list[str])\n",
      " |      Concatenate the args with a space.\n",
      " |      @param args: list[str]\n",
      " |      @return: str\n",
      " |  \n",
      " |  suffix(self, args)\n",
      " |      Concatenate the args with a space.\n",
      " |      This is kept separate from concat_right in case we want to concatenate with, say, \"-\" for head movement.\n",
      " |      @param args: list[str]\n",
      " |      @return: str\n",
      " |  \n",
      " |  ----------------------------------------------------------------------\n",
      " |  Data and other attributes defined here:\n",
      " |  \n",
      " |  __abstractmethods__ = frozenset()\n",
      " |  \n",
      " |  ----------------------------------------------------------------------\n",
      " |  Methods inherited from minimalist_parser.algebras.hm_algebra.HMAlgebra:\n",
      " |  \n",
      " |  __repr__(self)\n",
      " |      Return repr(self).\n",
      " |  \n",
      " |  concat_left(self, args)\n",
      " |      Concatenate args[1] to the left of args[0]\n",
      " |      If functor is lexical, we can leave a gap, since HM can apply later\n",
      " |      Otherwise, we concatenate to the rest, if possible, or concat all 3\n",
      " |      Raises errors when impossible\n",
      " |      @param args: list of two algebra objects\n",
      " |      @return: algebra object\n",
      " |  \n",
      " |  label2algebra_op(self, label: str)\n",
      " |      Creates an algebra op from the name of the method\n",
      " |      @param label: str: must be the name of a method in this class\n",
      " |      @return: AlgebraOp with that name and function\n",
      " |  \n",
      " |  prefix(self, args)\n",
      " |  \n",
      " |  tree2term(self, tree: minimalist_parser.trees.trees.Tree)\n",
      " |      Turns a Tree with nodes labelled\n",
      " |      @param tree: Tree (as defined in trees.py)\n",
      " |      @return: AlgebraTerm\n",
      " |  \n",
      " |  ----------------------------------------------------------------------\n",
      " |  Methods inherited from minimalist_parser.algebras.algebra.Algebra:\n",
      " |  \n",
      " |  __str__(self)\n",
      " |      Return str(self).\n",
      " |  \n",
      " |  add_constant_maker(self, function=None)\n",
      " |      A function to make an arbitrary zero-ary function (constant)\n",
      " |      @param function: function from leaf to constant function\n",
      " |      default names it after the default string rep of the input leaf and\n",
      " |       makes the \"function\" the leaf itself,\n",
      " |       which is by definition an object in the domain of the algebra\n",
      " |      @return:\n",
      " |  \n",
      " |  add_constants(self, constant_dict, default=None)\n",
      " |      if you have a dict of constants\n",
      " |      @param constant_dict: string to algebra op dict\n",
      " |      @param default: a way to make up a constant if it's not in the dict. Function from string (key) to AlgebraOp.\n",
      " |       default value just uses the word as the function of the AlgebraOp\n",
      " |  \n",
      " |  add_op(self, op: minimalist_parser.algebras.algebra.AlgebraOp)\n",
      " |  \n",
      " |  constant_maker_repr(self)\n",
      " |  \n",
      " |  default_constant_maker(self, word, label=None)\n",
      " |  \n",
      " |  get_op_by_name(self, name)\n",
      " |      Try to turn a string into an AlgebraOp.\n",
      " |          1. Look it up in self.ops.\n",
      " |          2. Try to find it as the name of a function of the algebra.\n",
      " |          3. Try to turn it into a constant with self.constant_maker.\n",
      " |          4. Try to turn it into a constant with self.domain_type(name).\n",
      " |          5. Raise an AlgebraError if all fails.\n",
      " |      @param name: str: the name of the function, such as concat_right.\n",
      " |      @return: AlgebraOp\n",
      " |  \n",
      " |  make_leaf(self, name, **kwargs)\n",
      " |  \n",
      " |  ops_repr(self)\n",
      " |  \n",
      " |  ----------------------------------------------------------------------\n",
      " |  Data descriptors inherited from minimalist_parser.algebras.algebra.Algebra:\n",
      " |  \n",
      " |  __dict__\n",
      " |      dictionary for instance variables (if defined)\n",
      " |  \n",
      " |  __weakref__\n",
      " |      list of weak references to the object (if defined)\n"
     ]
    }
   ],
   "source": [
    "string_algebra = BareTreeStringAlgebra()\n",
    "\n",
    "help(string_algebra)"
   ],
   "metadata": {
    "collapsed": false,
    "ExecuteTime": {
     "end_time": "2024-03-23T12:04:40.608259Z",
     "start_time": "2024-03-23T12:04:40.603870Z"
    }
   },
   "id": "9b5239cfd6e5b60e",
   "execution_count": 2
  },
  {
   "cell_type": "markdown",
   "source": [
    "Algebra constants are zeroary operations. They have a name and a zeroary function, which is an element of the domain: here, a string."
   ],
   "metadata": {
    "collapsed": false
   },
   "id": "34e452ad3c82b2d1"
  },
  {
   "cell_type": "code",
   "outputs": [
    {
     "name": "stdout",
     "output_type": "stream",
     "text": [
      "\n",
      "name: the\n",
      "function: the\n",
      "\n",
      "name: puppy\n",
      "function: puppy\n",
      "\n",
      "name: snuggled\n",
      "function: snuggled\n"
     ]
    }
   ],
   "source": [
    "the = AlgebraOp(\"the\", \"the\")\n",
    "\n",
    "# The algebra also has a default constant maker\n",
    "puppy = string_algebra.constant_maker(\"puppy\")\n",
    "snuggled = string_algebra.constant_maker(\"snuggled\")\n",
    "\n",
    "# look at the vocabulary\n",
    "vocab = [the, puppy, snuggled]\n",
    "for algebra_op in vocab:\n",
    "    print(\"\\nname:\", algebra_op.name)\n",
    "    print(\"function:\", algebra_op.function)\n"
   ],
   "metadata": {
    "collapsed": false,
    "ExecuteTime": {
     "end_time": "2024-03-23T12:04:40.619742Z",
     "start_time": "2024-03-23T12:04:40.608993Z"
    }
   },
   "id": "33dd279391c8c1bc",
   "execution_count": 3
  },
  {
   "cell_type": "markdown",
   "source": [
    "Binary operations < and > can be looked up in `string_algebra.ops` or they can be created. \n",
    "\n",
    "For consistency across Head Movement Algebras, < is in `string_algebra.ops['concat_right']` and > is in `string_algebra.ops['concat_left']`. Notice both use the string_algebra.concat_right method, since Bare Trees are WYSIWYG when it comes to word order."
   ],
   "metadata": {
    "collapsed": false
   },
   "id": "2cf07218a35cfa15"
  },
  {
   "cell_type": "code",
   "outputs": [
    {
     "name": "stdout",
     "output_type": "stream",
     "text": [
      "name: <\n",
      "function: <bound method BareTreeStringAlgebra.concat_right of String Algebra>\n",
      "\n",
      "name: >\n",
      "function: <bound method BareTreeStringAlgebra.concat_right of String Algebra>\n"
     ]
    }
   ],
   "source": [
    "print(\"name:\", string_algebra.ops['concat_right'].name)\n",
    "print(\"function:\", string_algebra.ops['concat_right'].function)\n",
    "print(\"\\nname:\", string_algebra.ops['concat_left'].name)\n",
    "print(\"function:\", string_algebra.ops['concat_left'].function)"
   ],
   "metadata": {
    "collapsed": false,
    "ExecuteTime": {
     "end_time": "2024-03-23T12:04:40.629110Z",
     "start_time": "2024-03-23T12:04:40.620670Z"
    }
   },
   "id": "2a3d469d51e9e352",
   "execution_count": 4
  },
  {
   "cell_type": "markdown",
   "source": [
    "You can always just create an `AlgebraOp` as well, if you want."
   ],
   "metadata": {
    "collapsed": false
   },
   "id": "cdc664a38cf62d04"
  },
  {
   "cell_type": "code",
   "outputs": [
    {
     "name": "stdout",
     "output_type": "stream",
     "text": [
      "True\n"
     ]
    }
   ],
   "source": [
    "new_right = AlgebraOp(\"<\", string_algebra.concat_right)\n",
    "print(new_right == string_algebra.ops['concat_right'])"
   ],
   "metadata": {
    "collapsed": false,
    "ExecuteTime": {
     "end_time": "2024-03-23T12:04:40.638843Z",
     "start_time": "2024-03-23T12:04:40.631116Z"
    }
   },
   "id": "38acf4ed57ce9259",
   "execution_count": 5
  },
  {
   "cell_type": "markdown",
   "source": [
    "### Algebra Terms\n",
    "\n",
    "An term over an algebra is a tree in which the nodes are labelled with operations of that algebra, and the number of children of the node matches the arity of the function of the operation.\n",
    "\n",
    "This means the leaves are constants, and the internal nodes are operations. \n",
    "\n",
    "An `AlgebraTerm` has a `parent`, which is an `AlgebraOp`, and, optionally, a list of `children`, which are `AlgebraTerm`s."
   ],
   "metadata": {
    "collapsed": false
   },
   "id": "f8f67ec1587113f4"
  },
  {
   "cell_type": "code",
   "outputs": [
    {
     "name": "stdout",
     "output_type": "stream",
     "text": [
      "('<', [('the'), ('puppy')])\n"
     ]
    }
   ],
   "source": [
    "# for readability, let's give < and > names\n",
    "# Type: AlgebraOp\n",
    "head_left = string_algebra.ops['concat_right']\n",
    "head_right = string_algebra.ops['concat_left']\n",
    "\n",
    "# we also really want our vocabulary to be AlgebraTerms. We can turn them all into AlgebraTerms, but instead let's make them with the convenience function make_leaf\n",
    "# Type: AlgebraTerm\n",
    "the = string_algebra.make_leaf(\"the\")\n",
    "puppy = string_algebra.make_leaf(\"puppy\")\n",
    "snuggled = string_algebra.make_leaf(\"snuggled\")\n",
    "\n",
    "the_puppy = AlgebraTerm(head_left, [the, puppy])\n",
    "\n",
    "print(the_puppy)"
   ],
   "metadata": {
    "collapsed": false,
    "ExecuteTime": {
     "end_time": "2024-03-23T12:04:40.652937Z",
     "start_time": "2024-03-23T12:04:40.639830Z"
    }
   },
   "id": "e42908db22eac923",
   "execution_count": 6
  },
  {
   "cell_type": "markdown",
   "source": [
    "`AlgebraTerm`s can be exported to `nltk.Tree`s, which allows us to visualise them."
   ],
   "metadata": {
    "collapsed": false
   },
   "id": "2874447a11f8d086"
  },
  {
   "cell_type": "code",
   "outputs": [],
   "source": [
    "the_puppy.to_nltk_tree().draw()"
   ],
   "metadata": {
    "collapsed": false,
    "ExecuteTime": {
     "end_time": "2024-03-23T12:04:42.525483Z",
     "start_time": "2024-03-23T12:04:40.654025Z"
    }
   },
   "id": "6c9a11690643c84a",
   "execution_count": 7
  },
  {
   "cell_type": "code",
   "outputs": [],
   "source": [
    "the_puppy_snuggled = AlgebraTerm(head_right, [the_puppy, snuggled])\n",
    "the_puppy_snuggled.to_nltk_tree().draw()"
   ],
   "metadata": {
    "collapsed": false,
    "ExecuteTime": {
     "end_time": "2024-03-23T12:04:43.510106Z",
     "start_time": "2024-03-23T12:04:42.526761Z"
    }
   },
   "id": "23f8afa951ac5a51",
   "execution_count": 8
  },
  {
   "cell_type": "markdown",
   "source": [
    "## Minimalist Algebras\n",
    "\n",
    "A Minimalist Algebra is also an algebra, but it's quite different from a string-building algebra. A Minimalist Algebra essentially handles all the Move-related work. Structure-building is delegated to its \"inner algebra\", which can be, for instance, this `string_algebra`.\n",
    "\n",
    "The domain of a Minimalist Algebra is `Expression`s, which contain an `inner_term` (a term of the inner algebra), `Movers`, and have an `mg_type` with things like +/- lexical and +/- conjunction.\n",
    "\n",
    "`Movers` implements a partial function from slot names (such as `'-wh'` or `'Abar'`) to inner terms. \n",
    "\n",
    "Today we'll just look at the `MinimalistAlgebraSynchronous` subclass, so I can show you how to build a synchronous grammar over multiple inner algebras."
   ],
   "metadata": {
    "collapsed": false
   },
   "id": "3f69d187dc2a294b"
  },
  {
   "cell_type": "code",
   "outputs": [
    {
     "name": "stdout",
     "output_type": "stream",
     "text": [
      "Help on MinimalistAlgebraSynchronous in module minimalist_parser.minimalism.minimalist_algebra_synchronous object:\n",
      "\n",
      "class MinimalistAlgebraSynchronous(minimalist_parser.minimalism.minimalist_algebra.MinimalistAlgebra)\n",
      " |  MinimalistAlgebraSynchronous(inner_algebras: list[minimalist_parser.algebras.algebra.Algebra], mover_type=<class 'minimalist_parser.minimalism.movers.Movers'>, prepare_packages=None, slots=None)\n",
      " |  \n",
      " |  A synchronous Minimalist Algebra: i.e. this has multiple Inner Algebras for structure-building.\n",
      " |  Attributes:\n",
      " |      inner_algebras: dict {Algebra: PreparePackages}\n",
      " |      inner_algebra: for compatability with parent class,\n",
      " |          the first algebra in the input parameter inner_algebras is stored here as a default inner algebra.\n",
      " |  \n",
      " |  Method resolution order:\n",
      " |      MinimalistAlgebraSynchronous\n",
      " |      minimalist_parser.minimalism.minimalist_algebra.MinimalistAlgebra\n",
      " |      minimalist_parser.algebras.algebra.Algebra\n",
      " |      builtins.object\n",
      " |  \n",
      " |  Methods defined here:\n",
      " |  \n",
      " |  __init__(self, inner_algebras: list[minimalist_parser.algebras.algebra.Algebra], mover_type=<class 'minimalist_parser.minimalism.movers.Movers'>, prepare_packages=None, slots=None)\n",
      " |      :param inner_algebras: list of algebras forming the inner algebras of the interpretations\n",
      " |      :param mover_type: Type of mover storage (default parent class Movers)\n",
      " |      :param prepare_packages: list of PreparePackages objects, one for each algebra\n",
      " |      :param slots: list of Slot objects, default [A, Abar, R, Self] (plus E if ListMovers)\n",
      " |  \n",
      " |  __repr__(self)\n",
      " |      Return repr(self).\n",
      " |  \n",
      " |  add_default_operations(self)\n",
      " |      Only if all inner algebras are HM algebras, which come with the appropriate operation names.\n",
      " |      Adds merge/move right and left, merge2/move1 for every mover slot, and move2 for every pair of mover slots.\n",
      " |  \n",
      " |  make_leaf(self, name, inner_instructions: minimalist_parser.minimalism.minimalist_algebra_synchronous.InnerAlgebraInstructions = None, conj=False)\n",
      " |  \n",
      " |  synchronous_function_from_minimalist_function(self, input_function: minimalist_parser.minimalism.minimalist_algebra.MinimalistFunction, inner_algebra: minimalist_parser.algebras.algebra.Algebra)\n",
      " |  \n",
      " |  synchronous_term_from_minimalist_term(self, input_term: minimalist_parser.algebras.algebra.AlgebraTerm, inner_algebra: minimalist_parser.algebras.algebra.Algebra)\n",
      " |  \n",
      " |  ----------------------------------------------------------------------\n",
      " |  Methods inherited from minimalist_parser.minimalism.minimalist_algebra.MinimalistAlgebra:\n",
      " |  \n",
      " |  apply_prepare(self, prepare, functor: minimalist_parser.minimalism.minimalist_algebra.Expression, other: minimalist_parser.algebras.algebra.AlgebraTerm) -> tuple[minimalist_parser.algebras.algebra.AlgebraTerm, minimalist_parser.algebras.algebra.AlgebraTerm]\n",
      " |      Utility function: checks whether prepare can be applied, and if so, applies it to inner terms.\n",
      " |      @param prepare: tree homomorphism from a PreparePackages object\n",
      " |      @param functor: Expression.\n",
      " |      @param other: inner AlgebraTerm.\n",
      " |      @return: updated functor inner term, updated other inner term. (AlgebraTerms)\n",
      " |  \n",
      " |  constant_maker_repr(self)\n",
      " |      :return: string representation of the behaviour of the constant maker\n",
      " |  \n",
      " |  merge1(self, inner_op: minimalist_parser.algebras.algebra.AlgebraOp, functor: minimalist_parser.minimalism.minimalist_algebra.Expression, other: minimalist_parser.minimalism.minimalist_algebra.Expression, prepare=None, adjoin=False, reverse=False)\n",
      " |      MERGE1 operation (merge non-mover), applying inner_op to inner items\n",
      " |      and combining movers, respecting SpIC.\n",
      " |      Used within a lambda function as the function of a MG AlgebraOp for Merge 1.\n",
      " |      @param reverse: bool: if True, apply inner_op to (arg2, arg1).\n",
      " |                              For algebras that don't necessarily keep the head on the right.\n",
      " |      @param adjoin: bool: if True, allow adjunct's movers to be a subset\n",
      " |                          of the head's\n",
      " |      @param prepare: function from 2 inner terms to 2 inner terms, preparing the args for\n",
      " |                      merge. e.g. for head movement\n",
      " |      @param inner_op: AlgebraOp of inner algebra to attach functor to other with.\n",
      " |      @param functor: Expression (the head/selector)\n",
      " |      @param other: Expression (the argument)\n",
      " |      @return: Expression or None if operation undefined\n",
      " |  \n",
      " |  merge2(self, to_slot: minimalist_parser.minimalism.movers.Slot, functor: minimalist_parser.minimalism.minimalist_algebra.Expression, other: minimalist_parser.minimalism.minimalist_algebra.Expression, prepare=None, adjoin=False, a=False, epp=False, multiple=False)\n",
      " |      MERGE2 operations (merge a mover)\n",
      " |      Applies inner_op if it's HM and stores rest, otherwise stores inner item\n",
      " |      Used within a lambda function as the function of a MG AlgebraOp for Merge 2.\n",
      " |      @param multiple:\n",
      " |      @param epp:\n",
      " |      @param a:\n",
      " |      @param adjoin: Bool: if true, this is an adjoin function\n",
      " |      @param prepare: prepare function\n",
      " |      @param to_slot: Slot\n",
      " |      @param functor: Expression\n",
      " |      @param other: Expression\n",
      " |      @return: Expression or None if operation undefined\n",
      " |  \n",
      " |  move1(self, from_slot: str, e: minimalist_parser.minimalism.minimalist_algebra.Expression, inner_op: minimalist_parser.algebras.algebra.AlgebraOp = None, index=0, prepare=None, reverse=False)\n",
      " |      MOVE1 (final move) operations.\n",
      " |      Take mover out of to_slot, concatenate left or right.\n",
      " |      Used within a lambda function as the function of a MG AlgebraOp for Move 1.\n",
      " |      @param prepare: prepare function. Note that this might be impossible in anything resembling a standard MG.\n",
      " |      @param index: int: for ListMovers, which mover to take from a multiple slot.\n",
      " |      @param from_slot: str: name of slot to get the mover from.\n",
      " |      @param inner_op: AlgebraOp of inner algebra to attach mover to main term with.\n",
      " |      @param reverse: bool: if True, apply inner_op to (arg2, arg1).\n",
      " |                      For algebras that don't necessarily keep the head on the right.\n",
      " |      @param e: Expression: input.\n",
      " |      @return: Expression: output.\n",
      " |  \n",
      " |  move2(self, from_slot: str, to_slot: minimalist_parser.minimalism.movers.Slot, expression: minimalist_parser.minimalism.minimalist_algebra.Expression, index=0, prepare=None)\n",
      " |      MOVE2 (non-final move) from one mover to_slot to another.\n",
      " |      Used within a lambda function as the function of a MG AlgebraOp for Move 2.\n",
      " |      @param index: index if using ListMovers.\n",
      " |      @param prepare: prepare function (e.g. add a trace).\n",
      " |      @param from_slot: str: name of the to_slot we take mover from.\n",
      " |      @param to_slot: Slot: empty Slot to put mover into.\n",
      " |      @param expression: Expression.\n",
      " |      @return: Expression.\n",
      " |  \n",
      " |  ops_repr(self)\n",
      " |      :return: string representation of the algebra operations\n",
      " |  \n",
      " |  ----------------------------------------------------------------------\n",
      " |  Methods inherited from minimalist_parser.algebras.algebra.Algebra:\n",
      " |  \n",
      " |  __str__(self)\n",
      " |      Return str(self).\n",
      " |  \n",
      " |  add_constant_maker(self, function=None)\n",
      " |      A function to make an arbitrary zero-ary function (constant)\n",
      " |      @param function: function from leaf to constant function\n",
      " |      default names it after the default string rep of the input leaf and\n",
      " |       makes the \"function\" the leaf itself,\n",
      " |       which is by definition an object in the domain of the algebra\n",
      " |      @return:\n",
      " |  \n",
      " |  add_constants(self, constant_dict, default=None)\n",
      " |      if you have a dict of constants\n",
      " |      @param constant_dict: string to algebra op dict\n",
      " |      @param default: a way to make up a constant if it's not in the dict. Function from string (key) to AlgebraOp.\n",
      " |       default value just uses the word as the function of the AlgebraOp\n",
      " |  \n",
      " |  add_op(self, op: minimalist_parser.algebras.algebra.AlgebraOp)\n",
      " |  \n",
      " |  default_constant_maker(self, word, label=None)\n",
      " |  \n",
      " |  get_op_by_name(self, name)\n",
      " |      Try to turn a string into an AlgebraOp.\n",
      " |          1. Look it up in self.ops.\n",
      " |          2. Try to find it as the name of a function of the algebra.\n",
      " |          3. Try to turn it into a constant with self.constant_maker.\n",
      " |          4. Try to turn it into a constant with self.domain_type(name).\n",
      " |          5. Raise an AlgebraError if all fails.\n",
      " |      @param name: str: the name of the function, such as concat_right.\n",
      " |      @return: AlgebraOp\n",
      " |  \n",
      " |  ----------------------------------------------------------------------\n",
      " |  Data descriptors inherited from minimalist_parser.algebras.algebra.Algebra:\n",
      " |  \n",
      " |  __dict__\n",
      " |      dictionary for instance variables (if defined)\n",
      " |  \n",
      " |  __weakref__\n",
      " |      list of weak references to the object (if defined)\n"
     ]
    }
   ],
   "source": [
    "# a MinimalistAlgebraSynchronous requires a list of inner algebras.\n",
    "minimalist_algebra = MinimalistAlgebraSynchronous([string_algebra])\n",
    "\n",
    "help(minimalist_algebra)"
   ],
   "metadata": {
    "collapsed": false,
    "ExecuteTime": {
     "end_time": "2024-03-23T12:04:43.516479Z",
     "start_time": "2024-03-23T12:04:43.511056Z"
    }
   },
   "id": "364bd9baec54cf2a",
   "execution_count": 9
  },
  {
   "cell_type": "code",
   "outputs": [
    {
     "name": "stdout",
     "output_type": "stream",
     "text": [
      "{}\n"
     ]
    }
   ],
   "source": [
    "print(minimalist_algebra.ops)"
   ],
   "metadata": {
    "collapsed": false,
    "ExecuteTime": {
     "end_time": "2024-03-23T12:04:43.532633Z",
     "start_time": "2024-03-23T12:04:43.517282Z"
    }
   },
   "id": "310f5cce27c3235",
   "execution_count": 10
  },
  {
   "cell_type": "code",
   "outputs": [],
   "source": [
    "minimalist_algebra.add_default_operations()"
   ],
   "metadata": {
    "collapsed": false,
    "ExecuteTime": {
     "end_time": "2024-03-23T12:04:43.541775Z",
     "start_time": "2024-03-23T12:04:43.533460Z"
    }
   },
   "id": "df38599d7bedabae",
   "execution_count": 11
  },
  {
   "cell_type": "code",
   "outputs": [
    {
     "name": "stdout",
     "output_type": "stream",
     "text": [
      "{'Merge1_right': Merge1_right, 'Merge1_left': Merge1_left, 'Merge2_A': Merge2_A, 'Move1_right_A': Move1_right_A, 'Move1_left_A': Move1_left_A, 'Move2_A_A': Move2_A_A, 'Move2_A_ABar': Move2_A_ABar, 'Move2_A_R': Move2_A_R, 'Move2_A_Self': Move2_A_Self, 'Merge2_ABar': Merge2_ABar, 'Move1_right_ABar': Move1_right_ABar, 'Move1_left_ABar': Move1_left_ABar, 'Move2_ABar_A': Move2_ABar_A, 'Move2_ABar_ABar': Move2_ABar_ABar, 'Move2_ABar_R': Move2_ABar_R, 'Move2_ABar_Self': Move2_ABar_Self, 'Merge2_R': Merge2_R, 'Move1_right_R': Move1_right_R, 'Move1_left_R': Move1_left_R, 'Move2_R_A': Move2_R_A, 'Move2_R_ABar': Move2_R_ABar, 'Move2_R_R': Move2_R_R, 'Move2_R_Self': Move2_R_Self, 'Merge2_Self': Merge2_Self, 'Move1_right_Self': Move1_right_Self, 'Move1_left_Self': Move1_left_Self, 'Move2_Self_A': Move2_Self_A, 'Move2_Self_ABar': Move2_Self_ABar, 'Move2_Self_R': Move2_Self_R, 'Move2_Self_Self': Move2_Self_Self}\n"
     ]
    }
   ],
   "source": [
    "print(minimalist_algebra.ops)"
   ],
   "metadata": {
    "collapsed": false,
    "ExecuteTime": {
     "end_time": "2024-03-23T12:04:43.551195Z",
     "start_time": "2024-03-23T12:04:43.542702Z"
    }
   },
   "id": "acdc814c0d4f29b4",
   "execution_count": 12
  },
  {
   "cell_type": "markdown",
   "source": [
    "## Adding your own inner algebra\n",
    "\n",
    "To do this, implement an `Algebra`. The `HMAlgebra` class has a bunch of default functions, so if you want an algebra with head movement, you may find this convenient. The `concat_right` etc methods by default just return `arg[0] + arg[1]` (or vice versa), so if you have a class you want to build, you may be able to get away with just initialising an `HMAlgebra` with `domain_type` specified.\n",
    "\n",
    "In the original Chomsky 1995, he builds multisets of multisets. Python won't let you do that, so I implemented `FakeSet`, which inherits from `list`, but ignores order.\n",
    "\n",
    "With this, you don't need to write a new class of `HMAlgebra`, just initialise one with `domain_type=FakeSet`."
   ],
   "metadata": {
    "collapsed": false
   },
   "id": "90bfb3a3c6dae2f0"
  },
  {
   "cell_type": "code",
   "outputs": [],
   "source": [
    "from minimalist_parser.algebras.algebra_objects.fake_set import FakeSet\n",
    "\n",
    "set_algebra = HMAlgebra(\"set algebra\", FakeSet)"
   ],
   "metadata": {
    "collapsed": false,
    "ExecuteTime": {
     "end_time": "2024-03-23T12:04:43.560411Z",
     "start_time": "2024-03-23T12:04:43.552012Z"
    }
   },
   "id": "caf21e21c4ffb05f",
   "execution_count": 13
  },
  {
   "cell_type": "markdown",
   "source": [
    "`HMAlgebra`s don't by default have a constant maker. We need to write our own, since a constant (lexical item) should already be a `FakeSet`, not just a string."
   ],
   "metadata": {
    "collapsed": false
   },
   "id": "d1382233e5fe803"
  },
  {
   "cell_type": "code",
   "outputs": [],
   "source": [
    "def make_fake_set_constant(word):\n",
    "    \"\"\"\n",
    "    make an AlgebraOp with the given word as the content of a unary FakeSet.\n",
    "    With this we can use the synchronous algebra make_leaf function for a shortcut to a term leaf.\n",
    "    \"\"\"\n",
    "    return AlgebraOp(word, FakeSet([word]))\n",
    "\n",
    "set_algebra.add_constant_maker(make_fake_set_constant)"
   ],
   "metadata": {
    "collapsed": false,
    "ExecuteTime": {
     "end_time": "2024-03-23T12:04:43.568966Z",
     "start_time": "2024-03-23T12:04:43.562984Z"
    }
   },
   "id": "b3167e7323fff9b3",
   "execution_count": 14
  },
  {
   "cell_type": "code",
   "outputs": [
    {
     "name": "stdout",
     "output_type": "stream",
     "text": [
      "{{1, 7, 8}, {2, 3}}\n"
     ]
    }
   ],
   "source": [
    "# this is just the built-in concat_right method of HMAlgebras, which just uses + on the two arguments.\n",
    "print(set_algebra.concat_right([FakeSet([7,8,1]), FakeSet([3, 2])]).spellout())"
   ],
   "metadata": {
    "collapsed": false,
    "ExecuteTime": {
     "end_time": "2024-03-23T12:04:43.578449Z",
     "start_time": "2024-03-23T12:04:43.569854Z"
    }
   },
   "id": "b496fe354efc2a21",
   "execution_count": 15
  },
  {
   "cell_type": "code",
   "outputs": [
    {
     "data": {
      "text/plain": "{{MG+}, {{hi}, {there}}}"
     },
     "execution_count": 16,
     "metadata": {},
     "output_type": "execute_result"
    }
   ],
   "source": [
    "# a term\n",
    "# set_algebra.ops[\"concat_right\"] is an AlgebraOp with name 'concat_right' and function set_algebra.concat_right.\n",
    "t = AlgebraTerm(set_algebra.ops[\"concat_right\"], [set_algebra.make_leaf(\"MG+\"), AlgebraTerm(set_algebra.ops[\"concat_right\"], [set_algebra.make_leaf(\"hi\"), set_algebra.make_leaf(\"there\")])])\n",
    "t.to_nltk_tree().draw()\n",
    "t.evaluate()\n"
   ],
   "metadata": {
    "collapsed": false,
    "ExecuteTime": {
     "end_time": "2024-03-23T12:04:44.679660Z",
     "start_time": "2024-03-23T12:04:43.579600Z"
    }
   },
   "id": "c0d8fdec7e40ebd3",
   "execution_count": 16
  },
  {
   "cell_type": "code",
   "outputs": [],
   "source": [
    "minimalist_algebra = MinimalistAlgebraSynchronous([string_algebra, set_algebra])"
   ],
   "metadata": {
    "collapsed": false,
    "ExecuteTime": {
     "end_time": "2024-03-23T12:04:44.682783Z",
     "start_time": "2024-03-23T12:04:44.680653Z"
    }
   },
   "id": "27a2c3521502cf37",
   "execution_count": 17
  },
  {
   "cell_type": "code",
   "outputs": [],
   "source": [
    "# Since all the inner algebras are HMAlgebras, there's a method for just adding all possible minimalist operations, right and left, given the movers slots.\n",
    "minimalist_algebra.add_default_operations()"
   ],
   "metadata": {
    "collapsed": false,
    "ExecuteTime": {
     "end_time": "2024-03-23T12:04:44.700583Z",
     "start_time": "2024-03-23T12:04:44.683591Z"
    }
   },
   "id": "c86ac8e559d7ee6d",
   "execution_count": 18
  },
  {
   "cell_type": "code",
   "outputs": [
    {
     "name": "stdout",
     "output_type": "stream",
     "text": [
      "Merge1_right\n",
      "Merge1_left\n",
      "Merge2_A\n",
      "Move1_right_A\n",
      "Move1_left_A\n",
      "Move2_A_A\n",
      "Move2_A_ABar\n",
      "Move2_A_R\n",
      "Move2_A_Self\n",
      "Merge2_ABar\n",
      "Move1_right_ABar\n",
      "Move1_left_ABar\n",
      "Move2_ABar_A\n",
      "Move2_ABar_ABar\n",
      "Move2_ABar_R\n",
      "Move2_ABar_Self\n",
      "Merge2_R\n",
      "Move1_right_R\n",
      "Move1_left_R\n",
      "Move2_R_A\n",
      "Move2_R_ABar\n",
      "Move2_R_R\n",
      "Move2_R_Self\n",
      "Merge2_Self\n",
      "Move1_right_Self\n",
      "Move1_left_Self\n",
      "Move2_Self_A\n",
      "Move2_Self_ABar\n",
      "Move2_Self_R\n",
      "Move2_Self_Self\n"
     ]
    }
   ],
   "source": [
    "for op in minimalist_algebra.ops:\n",
    "    print(op)"
   ],
   "metadata": {
    "collapsed": false,
    "ExecuteTime": {
     "end_time": "2024-03-23T12:04:44.709990Z",
     "start_time": "2024-03-23T12:04:44.701435Z"
    }
   },
   "id": "97ab11966e73dc3b",
   "execution_count": 19
  },
  {
   "cell_type": "code",
   "outputs": [],
   "source": [
    "# for readability, let's get some operations\n",
    "merge_right = minimalist_algebra.ops[\"Merge1_right\"]\n",
    "merge_A = minimalist_algebra.ops[\"Merge2_A\"]\n",
    "move_A = minimalist_algebra.ops[\"Move1_left_A\"]\n",
    "merge_Abar = minimalist_algebra.ops[\"Merge2_ABar\"]\n",
    "move_Abar = minimalist_algebra.ops[\"Move1_left_ABar\"]\n",
    "move_A_Abar = minimalist_algebra.ops[\"Move2_A_ABar\"]"
   ],
   "metadata": {
    "collapsed": false,
    "ExecuteTime": {
     "end_time": "2024-03-23T12:04:44.719047Z",
     "start_time": "2024-03-23T12:04:44.710844Z"
    }
   },
   "id": "a21a5db619995c92",
   "execution_count": 20
  },
  {
   "cell_type": "code",
   "outputs": [],
   "source": [
    "# and some constants\n",
    "the = minimalist_algebra.make_leaf(\"the\")\n",
    "puppy = minimalist_algebra.make_leaf(\"puppy\")\n",
    "snuggled = minimalist_algebra.make_leaf(\"snuggled\")\n"
   ],
   "metadata": {
    "collapsed": false,
    "ExecuteTime": {
     "end_time": "2024-03-23T12:04:44.728105Z",
     "start_time": "2024-03-23T12:04:44.719900Z"
    }
   },
   "id": "c487c7dad32f37b5",
   "execution_count": 21
  },
  {
   "cell_type": "markdown",
   "source": [
    "If you don't want to use the default constant maker, you can pass `make_leaf` a dict from inner algebra to `InnerAlgebraInstructions`.\n",
    "\n",
    "For example, if you need silent heads:"
   ],
   "metadata": {
    "collapsed": false
   },
   "id": "e40e6f9027a4962"
  },
  {
   "cell_type": "code",
   "outputs": [
    {
     "name": "stdout",
     "output_type": "stream",
     "text": [
      "set algebra [past] {}\n",
      "String Algebra [past] \n"
     ]
    }
   ],
   "source": [
    "# we can usually just make a silent thing with the constructor of the inner domain.\n",
    "# for example, str() makes \"\" and FakeSet() makes {}\n",
    "# inner_algebra.domain_type() works in that case, but inner_algebra.empty_leaf_operation should work for any Algebra\n",
    "silent_inners = {inner_algebra: InnerAlgebraInstructions(algebra_op=inner_algebra.empty_leaf_operation) for inner_algebra in minimalist_algebra.inner_algebras}\n",
    "past = minimalist_algebra.make_leaf(\"[past]\", silent_inners)\n",
    "\n",
    "# see the silent heads:\n",
    "print(set_algebra, past.parent, past.spellout(set_algebra))\n",
    "print(string_algebra, past.parent, past.spellout(string_algebra))\n"
   ],
   "metadata": {
    "collapsed": false,
    "ExecuteTime": {
     "end_time": "2024-03-23T12:04:44.737630Z",
     "start_time": "2024-03-23T12:04:44.729047Z"
    }
   },
   "id": "486d0702421524f",
   "execution_count": 22
  },
  {
   "cell_type": "code",
   "outputs": [],
   "source": [
    "# A term\n",
    "t=SynchronousTerm(move_A, [SynchronousTerm(merge_right, [past, SynchronousTerm(merge_A, [snuggled, SynchronousTerm(merge_right, [the, puppy])])])])\n",
    "t.to_nltk_tree().draw()\n",
    "\n",
    "# See the inner terms\n",
    "t.interp(set_algebra).inner_term.to_nltk_tree().draw()\n",
    "t.interp(string_algebra).inner_term.to_nltk_tree().draw()\n",
    "\n"
   ],
   "metadata": {
    "collapsed": false,
    "ExecuteTime": {
     "end_time": "2024-03-23T12:04:47.714850Z",
     "start_time": "2024-03-23T12:04:44.738466Z"
    }
   },
   "id": "6aff6e3d9ec189c6",
   "execution_count": 23
  },
  {
   "cell_type": "markdown",
   "source": [
    "`spellout` is a shortcut for `t.interp(algebra).inner_term.evaluate()`. If the `domain_type` also has a `spellout` method, it also applies that, so e.g. a tree could spellout to its string yield or a `(string, triple, \"\")` could spell out to `\"string triple\"`.\n"
   ],
   "metadata": {
    "collapsed": false
   },
   "id": "eff2e344db5b84a6"
  },
  {
   "cell_type": "code",
   "outputs": [
    {
     "name": "stdout",
     "output_type": "stream",
     "text": [
      "{{{}, {snuggled}}, {{puppy}, {the}}}\n",
      "the puppy snuggled\n"
     ]
    }
   ],
   "source": [
    "print(t.spellout(set_algebra))\n",
    "print(t.spellout(string_algebra))"
   ],
   "metadata": {
    "collapsed": false,
    "ExecuteTime": {
     "end_time": "2024-03-23T12:04:47.722971Z",
     "start_time": "2024-03-23T12:04:47.715895Z"
    }
   },
   "id": "b51a1c18ff25fbec",
   "execution_count": 24
  },
  {
   "cell_type": "code",
   "outputs": [
    {
     "name": "stdout",
     "output_type": "stream",
     "text": [
      "{{who}, {{}, {{}, {snuggled}}}}\n",
      "who snuggled\n"
     ]
    }
   ],
   "source": [
    "# Move2\n",
    "who = minimalist_algebra.make_leaf(\"who\")\n",
    "q = minimalist_algebra.make_leaf(\"[Q]\", silent_inners)\n",
    "\n",
    "\n",
    "t2 = SynchronousTerm(move_Abar, [SynchronousTerm(merge_right, [q, SynchronousTerm(move_A_Abar, [SynchronousTerm(merge_right, [past, SynchronousTerm(merge_A, [snuggled, who])])])])])\n",
    "\n",
    "# Minimalist term\n",
    "t2.to_nltk_tree().draw()\n",
    "\n",
    "# inner terms\n",
    "t2.interp(set_algebra).inner_term.to_nltk_tree().draw()\n",
    "t2.interp(string_algebra).inner_term.to_nltk_tree().draw()\n",
    "\n",
    "# spellout\n",
    "print(t2.spellout(set_algebra))\n",
    "print(t2.spellout(string_algebra))\n",
    "\n"
   ],
   "metadata": {
    "collapsed": false,
    "ExecuteTime": {
     "end_time": "2024-03-23T12:04:52.187135Z",
     "start_time": "2024-03-23T12:04:47.724205Z"
    }
   },
   "id": "dc7b7de4843b7f78",
   "execution_count": 25
  },
  {
   "cell_type": "markdown",
   "source": [
    "## Prepare Packages\n",
    "\n",
    "So far, we've had no Head Movement and moved items are not marked with traces. These kinds of things require* tree homomorphisms on the inner algebra terms.\n",
    "\n",
    "These are called `PreparePackages`, and are paired with the `Algebra`s. `PreparePackagesHM` have methods to extract and combine heads.\n",
    "\n",
    "* \"require\" is too strong a word. They can be built into the algebras if you want, but this misses generalisations, and they'll look different on the inner terms.\n"
   ],
   "metadata": {
    "collapsed": false
   },
   "id": "756c8fd244684da9"
  },
  {
   "cell_type": "code",
   "outputs": [],
   "source": [
    "# for the string algebra, these are special since we need to follow with <, > arrows to find the head.\n",
    "# by default, we just go down the left branches.\n",
    "string_prepare = PreparePackagesBareTrees()\n",
    "set_prepare = PreparePackagesHM(\"set prepare\", set_algebra)\n"
   ],
   "metadata": {
    "collapsed": false,
    "ExecuteTime": {
     "end_time": "2024-03-23T12:04:52.191110Z",
     "start_time": "2024-03-23T12:04:52.188435Z"
    }
   },
   "id": "dfedae119a4589bd",
   "execution_count": 26
  },
  {
   "cell_type": "code",
   "outputs": [
    {
     "name": "stdout",
     "output_type": "stream",
     "text": [
      "sets\n",
      "('[empty]')\n",
      "strings\n",
      "('<e>')\n"
     ]
    }
   ],
   "source": [
    "# e.g. extract_head returns a pair of the tree without its head and the head\n",
    "print(\"sets\")\n",
    "remainder, head = set_prepare.extract_head(t2.interp(set_algebra).inner_term)\n",
    "remainder.to_nltk_tree().draw()\n",
    "print(head)\n",
    "\n",
    "# removing the head in the string algebra leaves a trace t\n",
    "print(\"strings\")\n",
    "remainder, head = string_prepare.extract_head(t2.interp(string_algebra).inner_term)\n",
    "remainder.to_nltk_tree().draw()\n",
    "print(head)"
   ],
   "metadata": {
    "collapsed": false,
    "ExecuteTime": {
     "end_time": "2024-03-23T12:05:50.065082Z",
     "start_time": "2024-03-23T12:05:28.559008Z"
    }
   },
   "id": "7a8fb35c7387d937",
   "execution_count": 28
  },
  {
   "cell_type": "code",
   "outputs": [],
   "source": [],
   "metadata": {
    "collapsed": false,
    "ExecuteTime": {
     "end_time": "2024-03-23T12:04:52.213362Z",
     "start_time": "2024-03-23T12:04:52.211424Z"
    }
   },
   "id": "98900b46da9aaf1f",
   "execution_count": 27
  },
  {
   "cell_type": "markdown",
   "source": [
    "\n",
    "\n",
    "The standard Prepare Packages for head movement algebras are:\n",
    "\n",
    "* `suffix`: functor, other -> (functor with head = h_functor + other_functor , other without its head)\n",
    "* `prefix`: functor, other -> (functor with head = other_functor h_functor , other without its head)\n",
    "* `excorporation`: functor, other -> (other head , concat_right(functor head, other without its head)\n",
    "* `hm_atb`: ONLY if functor head == other head:\n",
    "  * functor, other -> (functor head, concat_right(functor without its head, other without its head)"
   ],
   "metadata": {
    "collapsed": false
   },
   "id": "3d324e175ae426e9"
  },
  {
   "cell_type": "code",
   "outputs": [],
   "source": [],
   "metadata": {
    "collapsed": false
   },
   "id": "fe1dd8a08fa88706"
  }
 ],
 "metadata": {
  "kernelspec": {
   "display_name": "Python 3",
   "language": "python",
   "name": "python3"
  },
  "language_info": {
   "codemirror_mode": {
    "name": "ipython",
    "version": 2
   },
   "file_extension": ".py",
   "mimetype": "text/x-python",
   "name": "python",
   "nbconvert_exporter": "python",
   "pygments_lexer": "ipython2",
   "version": "2.7.6"
  }
 },
 "nbformat": 4,
 "nbformat_minor": 5
}
